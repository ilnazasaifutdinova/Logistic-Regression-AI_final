{
 "cells": [
  {
   "cell_type": "code",
   "id": "initial_id",
   "metadata": {
    "collapsed": true,
    "ExecuteTime": {
     "end_time": "2025-07-09T22:03:30.148380Z",
     "start_time": "2025-07-09T22:03:29.819267Z"
    }
   },
   "source": [
    "# Multinomial Logistic Regression (Softmax)\n",
    "# Inspired by softmax_py.txt\n",
    "# Manual implementation with metrics\n",
    "\n",
    "import numpy as np\n",
    "from sklearn.datasets import make_classification\n",
    "from sklearn.model_selection import train_test_split\n",
    "from sklearn.preprocessing import StandardScaler\n",
    "from sklearn.metrics import classification_report, confusion_matrix\n",
    "\n",
    "# 1. Генерация synthetic dataset (3 класса)\n",
    "X, y = make_classification(\n",
    "    n_samples=1000,\n",
    "    n_features=5,\n",
    "    n_informative=4,\n",
    "    n_redundant=0,\n",
    "    n_classes=3,\n",
    "    random_state=42\n",
    ")\n",
    "\n",
    "# 2. Train/test split\n",
    "X_train, X_test, y_train, y_test = train_test_split(\n",
    "    X, y, test_size=0.2, random_state=42, stratify=y\n",
    ")\n",
    "\n",
    "# 3. Стандартизация\n",
    "scaler = StandardScaler()\n",
    "X_train = scaler.fit_transform(X_train)\n",
    "X_test = scaler.transform(X_test)\n",
    "\n",
    "# 4. One-hot encode y\n",
    "def one_hot(y, num_classes):\n",
    "    return np.eye(num_classes)[y]\n",
    "\n",
    "y_train_oh = one_hot(y_train, 3)\n",
    "\n",
    "# 5. Softmax-функция\n",
    "def softmax(z):\n",
    "    exp_z = np.exp(z - np.max(z, axis=1, keepdims=True))  # стабильность\n",
    "    return exp_z / np.sum(exp_z, axis=1, keepdims=True)\n",
    "\n",
    "# 6. Loss-функция\n",
    "def compute_loss(y_true, y_pred):\n",
    "    m = y_true.shape[0]\n",
    "    return -np.sum(y_true * np.log(y_pred + 1e-15)) / m\n",
    "\n",
    "# 7. Тренировка\n",
    "def train_softmax(X, y_onehot, lr=0.1, epochs=1000):\n",
    "    m, n = X.shape\n",
    "    k = y_onehot.shape[1]\n",
    "    W = np.zeros((n, k))\n",
    "    b = np.zeros((1, k))\n",
    "    loss_history = []\n",
    "\n",
    "    for i in range(epochs):\n",
    "        z = np.dot(X, W) + b\n",
    "        y_pred = softmax(z)\n",
    "        loss = compute_loss(y_onehot, y_pred)\n",
    "\n",
    "        dz = y_pred - y_onehot\n",
    "        dW = np.dot(X.T, dz) / m\n",
    "        db = np.sum(dz, axis=0, keepdims=True) / m\n",
    "\n",
    "        W -= lr * dW\n",
    "        b -= lr * db\n",
    "\n",
    "        if i % 100 == 0:\n",
    "            print(f\"Epoch {i}, Loss: {loss:.4f}\")\n",
    "        loss_history.append(loss)\n",
    "\n",
    "    return W, b, loss_history\n",
    "\n",
    "# 8. Обучение\n",
    "W_trained, b_trained, losses = train_softmax(X_train, y_train_oh)\n",
    "\n",
    "# 9. Предсказания\n",
    "def predict(X, W, b):\n",
    "    probs = softmax(np.dot(X, W) + b)\n",
    "    return np.argmax(probs, axis=1)\n",
    "\n",
    "y_pred = predict(X_test, W_trained, b_trained)\n",
    "\n",
    "# 10. Метрики\n",
    "print(\"\\nClassification Report:\")\n",
    "print(classification_report(y_test, y_pred))\n",
    "\n",
    "print(\"\\nConfusion Matrix:\")\n",
    "print(confusion_matrix(y_test, y_pred))\n"
   ],
   "outputs": [
    {
     "name": "stdout",
     "output_type": "stream",
     "text": [
      "Epoch 0, Loss: 1.0986\n",
      "Epoch 100, Loss: 0.8015\n",
      "Epoch 200, Loss: 0.7817\n",
      "Epoch 300, Loss: 0.7765\n",
      "Epoch 400, Loss: 0.7747\n",
      "Epoch 500, Loss: 0.7739\n",
      "Epoch 600, Loss: 0.7736\n",
      "Epoch 700, Loss: 0.7735\n",
      "Epoch 800, Loss: 0.7735\n",
      "Epoch 900, Loss: 0.7734\n",
      "\n",
      "Classification Report:\n",
      "              precision    recall  f1-score   support\n",
      "\n",
      "           0       0.78      0.76      0.77        67\n",
      "           1       0.65      0.75      0.69        67\n",
      "           2       0.55      0.48      0.52        66\n",
      "\n",
      "    accuracy                           0.67       200\n",
      "   macro avg       0.66      0.66      0.66       200\n",
      "weighted avg       0.66      0.67      0.66       200\n",
      "\n",
      "\n",
      "Confusion Matrix:\n",
      "[[51  4 12]\n",
      " [ 3 50 14]\n",
      " [11 23 32]]\n"
     ]
    }
   ],
   "execution_count": 1
  },
  {
   "metadata": {},
   "cell_type": "markdown",
   "source": [
    "Loss\n",
    "1) Начальный loss = 1.0986 — это логарифм от числа классов: ln(3) ≈ 1.0986 → модель начинала с полного незнания\n",
    "2) Финальный loss ≈ 0.7734 → модель обучилась и нашла структуру в данных"
   ],
   "id": "26f32e045610b"
  },
  {
   "metadata": {},
   "cell_type": "markdown",
   "source": [
    "Классификация (3 класса):\n",
    "\n",
    "Класс 0 — лучший результат (возможно, он проще для модели)\n",
    "Класс 2 — сложнее распознаётся: precision и recall самые низкие\n",
    "Точность по всем классам (macro/weighted) ≈ 0.66–0.67 — модель работает заметно лучше случайной (1/3 = 33%)"
   ],
   "id": "d2c3320e55b6fc04"
  },
  {
   "metadata": {},
   "cell_type": "markdown",
   "source": [
    "Confusion Matrix\n",
    "\n",
    "Большинство ошибок модели — между классами 2 и 1 → они часто путаются\n",
    "Но в целом модель уверенно предсказывает 0 и 1"
   ],
   "id": "9844fab637ad2eb3"
  },
  {
   "metadata": {},
   "cell_type": "markdown",
   "source": " График loss по эпохам",
   "id": "345bc03763e234a"
  },
  {
   "metadata": {
    "ExecuteTime": {
     "end_time": "2025-07-09T22:05:38.341653Z",
     "start_time": "2025-07-09T22:05:38.253629Z"
    }
   },
   "cell_type": "code",
   "source": [
    "import matplotlib.pyplot as plt\n",
    "\n",
    "plt.plot(losses)\n",
    "plt.title(\"Loss per Epoch (Softmax Regression)\")\n",
    "plt.xlabel(\"Epoch\")\n",
    "plt.ylabel(\"Loss\")\n",
    "plt.grid(True)\n",
    "plt.show()\n"
   ],
   "id": "3b715c345e5eabdf",
   "outputs": [
    {
     "data": {
      "text/plain": [
       "<Figure size 640x480 with 1 Axes>"
      ],
      "image/png": "[encoded data removed]"
     },
     "metadata": {},
     "output_type": "display_data"
    }
   ],
   "execution_count": 2
  },
  {
   "metadata": {},
   "cell_type": "markdown",
   "source": "Сохранение весов и метрик",
   "id": "ad4e46f9cbf2f748"
  },
  {
   "metadata": {
    "ExecuteTime": {
     "end_time": "2025-07-09T22:05:53.523829Z",
     "start_time": "2025-07-09T22:05:53.515583Z"
    }
   },
   "cell_type": "code",
   "source": [
    "# Сохраняем веса и смещения\n",
    "np.save(\"softmax_weights.npy\", W_trained)\n",
    "np.save(\"softmax_biases.npy\", b_trained)\n",
    "\n",
    "# Сохраняем отчёт\n",
    "with open(\"softmax_classification_report.txt\", \"w\") as f:\n",
    "    from sklearn.metrics import classification_report\n",
    "    f.write(classification_report(y_test, y_pred))\n"
   ],
   "id": "20ceeef999c1d0cb",
   "outputs": [],
   "execution_count": 3
  },
  {
   "metadata": {},
   "cell_type": "markdown",
   "source": "Сравнение с sklearn (baseline)",
   "id": "3fc301ede839181d"
  },
  {
   "metadata": {
    "ExecuteTime": {
     "end_time": "2025-07-09T22:06:08.068469Z",
     "start_time": "2025-07-09T22:06:07.972721Z"
    }
   },
   "cell_type": "code",
   "source": [
    "from sklearn.linear_model import LogisticRegression\n",
    "\n",
    "clf = LogisticRegression(multi_class='multinomial', solver='lbfgs', max_iter=1000)\n",
    "clf.fit(X_train, y_train)\n",
    "\n",
    "y_pred_sk = clf.predict(X_test)\n",
    "\n",
    "print(\"📦 Sklearn LogisticRegression (multinomial):\")\n",
    "print(classification_report(y_test, y_pred_sk))\n"
   ],
   "id": "51a04085712562d6",
   "outputs": [
    {
     "name": "stdout",
     "output_type": "stream",
     "text": [
      "📦 Sklearn LogisticRegression (multinomial):\n",
      "              precision    recall  f1-score   support\n",
      "\n",
      "           0       0.78      0.78      0.78        67\n",
      "           1       0.65      0.75      0.69        67\n",
      "           2       0.57      0.48      0.52        66\n",
      "\n",
      "    accuracy                           0.67       200\n",
      "   macro avg       0.67      0.67      0.67       200\n",
      "weighted avg       0.67      0.67      0.67       200\n",
      "\n"
     ]
    },
    {
     "name": "stderr",
     "output_type": "stream",
     "text": [
      "/Library/Frameworks/Python.framework/Versions/3.12/lib/python3.12/site-packages/sklearn/linear_model/_logistic.py:1247: FutureWarning: 'multi_class' was deprecated in version 1.5 and will be removed in 1.7. From then on, it will always use 'multinomial'. Leave it to its default value to avoid this warning.\n",
      "  warnings.warn(\n"
     ]
    }
   ],
   "execution_count": 4
  },
  {
   "metadata": {},
   "cell_type": "markdown",
   "source": [
    "Сравнение: Ручная модель vs. sklearn\n",
    "\n",
    "Разницы почти нет, все метрики совпадают до сотых, то есть: реализация softmax-регрессии вручную полностью совпадает с реализацией из sklearn."
   ],
   "id": "fc6acc68a9b9ec17"
  },
  {
   "metadata": {},
   "cell_type": "markdown",
   "source": [
    "Финальный вывод:\n",
    "Реализованы -\n",
    "1) Binary logistic regression (вся pipeline: ручная + sklearn)\n",
    "2) Multinomial softmax regression (всё вручную + baseline + метрики)"
   ],
   "id": "f7297da85ecd733f"
  }
 ],
 "metadata": {
  "kernelspec": {
   "display_name": "Python 3",
   "language": "python",
   "name": "python3"
  },
  "language_info": {
   "codemirror_mode": {
    "name": "ipython",
    "version": 2
   },
   "file_extension": ".py",
   "mimetype": "text/x-python",
   "name": "python",
   "nbconvert_exporter": "python",
   "pygments_lexer": "ipython2",
   "version": "2.7.6"
  }
 },
 "nbformat": 4,
 "nbformat_minor": 5
}
