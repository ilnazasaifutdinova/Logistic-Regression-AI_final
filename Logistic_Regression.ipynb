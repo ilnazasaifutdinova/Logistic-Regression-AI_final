{
 "cells": [
  {
   "cell_type": "code",
   "id": "initial_id",
   "metadata": {
    "collapsed": true,
    "ExecuteTime": {
     "end_time": "2025-07-09T20:44:20.302448Z",
     "start_time": "2025-07-09T20:44:18.472853Z"
    }
   },
   "source": [
    "import pandas as pd\n",
    "\n",
    "df = pd.read_excel(\"heart_attack_prediction_dataset.xlsx\")\n",
    "df.head()\n"
   ],
   "outputs": [
    {
     "data": {
      "text/plain": [
       "  Patient ID  Age     Sex  Cholesterol Blood Pressure  Heart Rate  Diabetes  \\\n",
       "0    BMW7812   67    Male          208         158/88          72         0   \n",
       "1    CZE1114   21    Male          389         165/93          98         1   \n",
       "2    BNI9906   21  Female          324         174/99          72         1   \n",
       "3    JLN3497   84    Male          383        163/100          73         1   \n",
       "4    GFO8847   66    Male          318          91/88          93         1   \n",
       "\n",
       "   Family History  Smoking  Obesity  ...  Sedentary Hours Per Day  Income  \\\n",
       "0               0        1        0  ...                 6.615001  261404   \n",
       "1               1        1        1  ...                 4.963459  285768   \n",
       "2               0        0        0  ...                 9.463426  235282   \n",
       "3               1        1        0  ...                 7.648981  125640   \n",
       "4               1        1        1  ...                 1.514821  160555   \n",
       "\n",
       "         BMI  Triglycerides  Physical Activity Days Per Week  \\\n",
       "0  31.251233            286                                0   \n",
       "1  27.194973            235                                1   \n",
       "2  28.176571            587                                4   \n",
       "3  36.464704            378                                3   \n",
       "4  21.809144            231                                1   \n",
       "\n",
       "   Sleep Hours Per Day    Country      Continent           Hemisphere  \\\n",
       "0                    6  Argentina  South America  Southern Hemisphere   \n",
       "1                    7     Canada  North America  Northern Hemisphere   \n",
       "2                    4     France         Europe  Northern Hemisphere   \n",
       "3                    4     Canada  North America  Northern Hemisphere   \n",
       "4                    5   Thailand           Asia  Northern Hemisphere   \n",
       "\n",
       "   Heart Attack Risk  \n",
       "0                  0  \n",
       "1                  0  \n",
       "2                  0  \n",
       "3                  0  \n",
       "4                  0  \n",
       "\n",
       "[5 rows x 26 columns]"
      ],
      "text/html": [
       "<div>\n",
       "<style scoped>\n",
       "    .dataframe tbody tr th:only-of-type {\n",
       "        vertical-align: middle;\n",
       "    }\n",
       "\n",
       "    .dataframe tbody tr th {\n",
       "        vertical-align: top;\n",
       "    }\n",
       "\n",
       "    .dataframe thead th {\n",
       "        text-align: right;\n",
       "    }\n",
       "</style>\n",
       "<table border=\"1\" class=\"dataframe\">\n",
       "  <thead>\n",
       "    <tr style=\"text-align: right;\">\n",
       "      <th></th>\n",
       "      <th>Patient ID</th>\n",
       "      <th>Age</th>\n",
       "      <th>Sex</th>\n",
       "      <th>Cholesterol</th>\n",
       "      <th>Blood Pressure</th>\n",
       "      <th>Heart Rate</th>\n",
       "      <th>Diabetes</th>\n",
       "      <th>Family History</th>\n",
       "      <th>Smoking</th>\n",
       "      <th>Obesity</th>\n",
       "      <th>...</th>\n",
       "      <th>Sedentary Hours Per Day</th>\n",
       "      <th>Income</th>\n",
       "      <th>BMI</th>\n",
       "      <th>Triglycerides</th>\n",
       "      <th>Physical Activity Days Per Week</th>\n",
       "      <th>Sleep Hours Per Day</th>\n",
       "      <th>Country</th>\n",
       "      <th>Continent</th>\n",
       "      <th>Hemisphere</th>\n",
       "      <th>Heart Attack Risk</th>\n",
       "    </tr>\n",
       "  </thead>\n",
       "  <tbody>\n",
       "    <tr>\n",
       "      <th>0</th>\n",
       "      <td>BMW7812</td>\n",
       "      <td>67</td>\n",
       "      <td>Male</td>\n",
       "      <td>208</td>\n",
       "      <td>158/88</td>\n",
       "      <td>72</td>\n",
       "      <td>0</td>\n",
       "      <td>0</td>\n",
       "      <td>1</td>\n",
       "      <td>0</td>\n",
       "      <td>...</td>\n",
       "      <td>6.615001</td>\n",
       "      <td>261404</td>\n",
       "      <td>31.251233</td>\n",
       "      <td>286</td>\n",
       "      <td>0</td>\n",
       "      <td>6</td>\n",
       "      <td>Argentina</td>\n",
       "      <td>South America</td>\n",
       "      <td>Southern Hemisphere</td>\n",
       "      <td>0</td>\n",
       "    </tr>\n",
       "    <tr>\n",
       "      <th>1</th>\n",
       "      <td>CZE1114</td>\n",
       "      <td>21</td>\n",
       "      <td>Male</td>\n",
       "      <td>389</td>\n",
       "      <td>165/93</td>\n",
       "      <td>98</td>\n",
       "      <td>1</td>\n",
       "      <td>1</td>\n",
       "      <td>1</td>\n",
       "      <td>1</td>\n",
       "      <td>...</td>\n",
       "      <td>4.963459</td>\n",
       "      <td>285768</td>\n",
       "      <td>27.194973</td>\n",
       "      <td>235</td>\n",
       "      <td>1</td>\n",
       "      <td>7</td>\n",
       "      <td>Canada</td>\n",
       "      <td>North America</td>\n",
       "      <td>Northern Hemisphere</td>\n",
       "      <td>0</td>\n",
       "    </tr>\n",
       "    <tr>\n",
       "      <th>2</th>\n",
       "      <td>BNI9906</td>\n",
       "      <td>21</td>\n",
       "      <td>Female</td>\n",
       "      <td>324</td>\n",
       "      <td>174/99</td>\n",
       "      <td>72</td>\n",
       "      <td>1</td>\n",
       "      <td>0</td>\n",
       "      <td>0</td>\n",
       "      <td>0</td>\n",
       "      <td>...</td>\n",
       "      <td>9.463426</td>\n",
       "      <td>235282</td>\n",
       "      <td>28.176571</td>\n",
       "      <td>587</td>\n",
       "      <td>4</td>\n",
       "      <td>4</td>\n",
       "      <td>France</td>\n",
       "      <td>Europe</td>\n",
       "      <td>Northern Hemisphere</td>\n",
       "      <td>0</td>\n",
       "    </tr>\n",
       "    <tr>\n",
       "      <th>3</th>\n",
       "      <td>JLN3497</td>\n",
       "      <td>84</td>\n",
       "      <td>Male</td>\n",
       "      <td>383</td>\n",
       "      <td>163/100</td>\n",
       "      <td>73</td>\n",
       "      <td>1</td>\n",
       "      <td>1</td>\n",
       "      <td>1</td>\n",
       "      <td>0</td>\n",
       "      <td>...</td>\n",
       "      <td>7.648981</td>\n",
       "      <td>125640</td>\n",
       "      <td>36.464704</td>\n",
       "      <td>378</td>\n",
       "      <td>3</td>\n",
       "      <td>4</td>\n",
       "      <td>Canada</td>\n",
       "      <td>North America</td>\n",
       "      <td>Northern Hemisphere</td>\n",
       "      <td>0</td>\n",
       "    </tr>\n",
       "    <tr>\n",
       "      <th>4</th>\n",
       "      <td>GFO8847</td>\n",
       "      <td>66</td>\n",
       "      <td>Male</td>\n",
       "      <td>318</td>\n",
       "      <td>91/88</td>\n",
       "      <td>93</td>\n",
       "      <td>1</td>\n",
       "      <td>1</td>\n",
       "      <td>1</td>\n",
       "      <td>1</td>\n",
       "      <td>...</td>\n",
       "      <td>1.514821</td>\n",
       "      <td>160555</td>\n",
       "      <td>21.809144</td>\n",
       "      <td>231</td>\n",
       "      <td>1</td>\n",
       "      <td>5</td>\n",
       "      <td>Thailand</td>\n",
       "      <td>Asia</td>\n",
       "      <td>Northern Hemisphere</td>\n",
       "      <td>0</td>\n",
       "    </tr>\n",
       "  </tbody>\n",
       "</table>\n",
       "<p>5 rows × 26 columns</p>\n",
       "</div>"
      ]
     },
     "execution_count": 21,
     "metadata": {},
     "output_type": "execute_result"
    }
   ],
   "execution_count": 21
  },
  {
   "metadata": {
    "ExecuteTime": {
     "end_time": "2025-07-09T20:44:23.696036Z",
     "start_time": "2025-07-09T20:44:23.689223Z"
    }
   },
   "cell_type": "code",
   "source": [
    "# Основная информация о датасете\n",
    "print(df.info())\n"
   ],
   "id": "9cc1f5e640f54de7",
   "outputs": [
    {
     "name": "stdout",
     "output_type": "stream",
     "text": [
      "<class 'pandas.core.frame.DataFrame'>\n",
      "RangeIndex: 8763 entries, 0 to 8762\n",
      "Data columns (total 26 columns):\n",
      " #   Column                           Non-Null Count  Dtype  \n",
      "---  ------                           --------------  -----  \n",
      " 0   Patient ID                       8763 non-null   object \n",
      " 1   Age                              8763 non-null   int64  \n",
      " 2   Sex                              8763 non-null   object \n",
      " 3   Cholesterol                      8763 non-null   int64  \n",
      " 4   Blood Pressure                   8763 non-null   object \n",
      " 5   Heart Rate                       8763 non-null   int64  \n",
      " 6   Diabetes                         8763 non-null   int64  \n",
      " 7   Family History                   8763 non-null   int64  \n",
      " 8   Smoking                          8763 non-null   int64  \n",
      " 9   Obesity                          8763 non-null   int64  \n",
      " 10  Alcohol Consumption              8763 non-null   int64  \n",
      " 11  Exercise Hours Per Week          8763 non-null   float64\n",
      " 12  Diet                             8763 non-null   object \n",
      " 13  Previous Heart Problems          8763 non-null   int64  \n",
      " 14  Medication Use                   8763 non-null   int64  \n",
      " 15  Stress Level                     8763 non-null   int64  \n",
      " 16  Sedentary Hours Per Day          8763 non-null   float64\n",
      " 17  Income                           8763 non-null   int64  \n",
      " 18  BMI                              8763 non-null   float64\n",
      " 19  Triglycerides                    8763 non-null   int64  \n",
      " 20  Physical Activity Days Per Week  8763 non-null   int64  \n",
      " 21  Sleep Hours Per Day              8763 non-null   int64  \n",
      " 22  Country                          8763 non-null   object \n",
      " 23  Continent                        8763 non-null   object \n",
      " 24  Hemisphere                       8763 non-null   object \n",
      " 25  Heart Attack Risk                8763 non-null   int64  \n",
      "dtypes: float64(3), int64(16), object(7)\n",
      "memory usage: 1.7+ MB\n",
      "None\n"
     ]
    }
   ],
   "execution_count": 22
  },
  {
   "metadata": {
    "ExecuteTime": {
     "end_time": "2025-07-09T20:44:25.522569Z",
     "start_time": "2025-07-09T20:44:25.501069Z"
    }
   },
   "cell_type": "code",
   "source": [
    "# Статистика по числовым признакам\n",
    "print(df.describe())\n"
   ],
   "id": "4cb382b5a6f220f",
   "outputs": [
    {
     "name": "stdout",
     "output_type": "stream",
     "text": [
      "               Age  Cholesterol   Heart Rate     Diabetes  Family History  \\\n",
      "count  8763.000000  8763.000000  8763.000000  8763.000000     8763.000000   \n",
      "mean     53.707977   259.877211    75.021682     0.652288        0.492982   \n",
      "std      21.249509    80.863276    20.550948     0.476271        0.499979   \n",
      "min      18.000000   120.000000    40.000000     0.000000        0.000000   \n",
      "25%      35.000000   192.000000    57.000000     0.000000        0.000000   \n",
      "50%      54.000000   259.000000    75.000000     1.000000        0.000000   \n",
      "75%      72.000000   330.000000    93.000000     1.000000        1.000000   \n",
      "max      90.000000   400.000000   110.000000     1.000000        1.000000   \n",
      "\n",
      "           Smoking      Obesity  Alcohol Consumption  Exercise Hours Per Week  \\\n",
      "count  8763.000000  8763.000000          8763.000000              8763.000000   \n",
      "mean      0.896839     0.501426             0.598083                10.014284   \n",
      "std       0.304186     0.500026             0.490313                 5.783745   \n",
      "min       0.000000     0.000000             0.000000                 0.002442   \n",
      "25%       1.000000     0.000000             0.000000                 4.981579   \n",
      "50%       1.000000     1.000000             1.000000                10.069559   \n",
      "75%       1.000000     1.000000             1.000000                15.050018   \n",
      "max       1.000000     1.000000             1.000000                19.998709   \n",
      "\n",
      "       Previous Heart Problems  Medication Use  Stress Level  \\\n",
      "count              8763.000000     8763.000000   8763.000000   \n",
      "mean                  0.495835        0.498345      5.469702   \n",
      "std                   0.500011        0.500026      2.859622   \n",
      "min                   0.000000        0.000000      1.000000   \n",
      "25%                   0.000000        0.000000      3.000000   \n",
      "50%                   0.000000        0.000000      5.000000   \n",
      "75%                   1.000000        1.000000      8.000000   \n",
      "max                   1.000000        1.000000     10.000000   \n",
      "\n",
      "       Sedentary Hours Per Day         Income          BMI  Triglycerides  \\\n",
      "count              8763.000000    8763.000000  8763.000000    8763.000000   \n",
      "mean                  5.993690  158263.181901    28.891446     417.677051   \n",
      "std                   3.466359   80575.190806     6.319181     223.748137   \n",
      "min                   0.001263   20062.000000    18.002337      30.000000   \n",
      "25%                   2.998794   88310.000000    23.422985     225.500000   \n",
      "50%                   5.933622  157866.000000    28.768999     417.000000   \n",
      "75%                   9.019124  227749.000000    34.324594     612.000000   \n",
      "max                  11.999313  299954.000000    39.997211     800.000000   \n",
      "\n",
      "       Physical Activity Days Per Week  Sleep Hours Per Day  Heart Attack Risk  \n",
      "count                      8763.000000          8763.000000        8763.000000  \n",
      "mean                          3.489672             7.023508           0.358211  \n",
      "std                           2.282687             1.988473           0.479502  \n",
      "min                           0.000000             4.000000           0.000000  \n",
      "25%                           2.000000             5.000000           0.000000  \n",
      "50%                           3.000000             7.000000           0.000000  \n",
      "75%                           5.000000             9.000000           1.000000  \n",
      "max                           7.000000            10.000000           1.000000  \n"
     ]
    }
   ],
   "execution_count": 23
  },
  {
   "metadata": {
    "ExecuteTime": {
     "end_time": "2025-07-09T20:44:30.228099Z",
     "start_time": "2025-07-09T20:44:30.222377Z"
    }
   },
   "cell_type": "code",
   "source": [
    " # Проверка на пропущенные значения\n",
    " print(df.isnull().sum())\n"
   ],
   "id": "4c274181af440713",
   "outputs": [
    {
     "name": "stdout",
     "output_type": "stream",
     "text": [
      "Patient ID                         0\n",
      "Age                                0\n",
      "Sex                                0\n",
      "Cholesterol                        0\n",
      "Blood Pressure                     0\n",
      "Heart Rate                         0\n",
      "Diabetes                           0\n",
      "Family History                     0\n",
      "Smoking                            0\n",
      "Obesity                            0\n",
      "Alcohol Consumption                0\n",
      "Exercise Hours Per Week            0\n",
      "Diet                               0\n",
      "Previous Heart Problems            0\n",
      "Medication Use                     0\n",
      "Stress Level                       0\n",
      "Sedentary Hours Per Day            0\n",
      "Income                             0\n",
      "BMI                                0\n",
      "Triglycerides                      0\n",
      "Physical Activity Days Per Week    0\n",
      "Sleep Hours Per Day                0\n",
      "Country                            0\n",
      "Continent                          0\n",
      "Hemisphere                         0\n",
      "Heart Attack Risk                  0\n",
      "dtype: int64\n"
     ]
    }
   ],
   "execution_count": 24
  },
  {
   "metadata": {
    "ExecuteTime": {
     "end_time": "2025-07-09T20:55:27.414806Z",
     "start_time": "2025-07-09T20:55:27.405973Z"
    }
   },
   "cell_type": "code",
   "source": [
    "\n",
    "df_model = df.drop(columns=[\"Patient ID\"])\n"
   ],
   "id": "44a8219b2c84b587",
   "outputs": [],
   "execution_count": 28
  },
  {
   "metadata": {
    "ExecuteTime": {
     "end_time": "2025-07-09T20:55:38.488908Z",
     "start_time": "2025-07-09T20:55:38.467691Z"
    }
   },
   "cell_type": "code",
   "source": [
    "# Бинарное кодирование\n",
    "df_model[\"Sex\"] = df_model[\"Sex\"].map({\"Male\": 1, \"Female\": 0})\n",
    "\n",
    "# One-hot кодирование 'Blood Pressure' и 'Diet'\n",
    "df_model = pd.get_dummies(df_model, columns=[\"Blood Pressure\", \"Diet\"], drop_first=True)\n"
   ],
   "id": "75cb49c36da7f146",
   "outputs": [],
   "execution_count": 29
  },
  {
   "metadata": {
    "ExecuteTime": {
     "end_time": "2025-07-09T20:55:54.424124Z",
     "start_time": "2025-07-09T20:55:54.372603Z"
    }
   },
   "cell_type": "code",
   "source": [
    "X = df_model.drop(columns=[\"Heart Attack Risk\", \"Country\", \"Continent\", \"Hemisphere\"])\n",
    "y = df_model[\"Heart Attack Risk\"]\n"
   ],
   "id": "1e2f4946004d4c7",
   "outputs": [],
   "execution_count": 30
  },
  {
   "metadata": {
    "ExecuteTime": {
     "end_time": "2025-07-09T20:56:20.685493Z",
     "start_time": "2025-07-09T20:56:20.681580Z"
    }
   },
   "cell_type": "code",
   "source": [
    "# Размерности признаков и целевой переменной\n",
    "print(\"X shape:\", X.shape)\n",
    "print(\"y shape:\", y.shape)"
   ],
   "id": "19b4ce99791d995a",
   "outputs": [
    {
     "name": "stdout",
     "output_type": "stream",
     "text": [
      "X shape: (8763, 3935)\n",
      "y shape: (8763,)\n"
     ]
    }
   ],
   "execution_count": 31
  },
  {
   "metadata": {
    "ExecuteTime": {
     "end_time": "2025-07-09T20:56:29.862984Z",
     "start_time": "2025-07-09T20:56:29.851052Z"
    }
   },
   "cell_type": "code",
   "source": [
    "# Баланс классов\n",
    "print(\"\\nClass distribution in y:\")\n",
    "print(y.value_counts(normalize=True))"
   ],
   "id": "d0ff20699a4b6d67",
   "outputs": [
    {
     "name": "stdout",
     "output_type": "stream",
     "text": [
      "\n",
      "Class distribution in y:\n",
      "Heart Attack Risk\n",
      "0    0.641789\n",
      "1    0.358211\n",
      "Name: proportion, dtype: float64\n"
     ]
    }
   ],
   "execution_count": 32
  },
  {
   "metadata": {
    "ExecuteTime": {
     "end_time": "2025-07-09T20:56:44.257854Z",
     "start_time": "2025-07-09T20:56:44.249589Z"
    }
   },
   "cell_type": "code",
   "source": [
    "# Первые строки признаков\n",
    "print(\"\\nPreview of X:\")\n",
    "print(X.head())"
   ],
   "id": "cd2783acf79102fc",
   "outputs": [
    {
     "name": "stdout",
     "output_type": "stream",
     "text": [
      "\n",
      "Preview of X:\n",
      "   Age  Sex  Cholesterol  Heart Rate  Diabetes  Family History  Smoking  \\\n",
      "0   67    1          208          72         0               0        1   \n",
      "1   21    1          389          98         1               1        1   \n",
      "2   21    0          324          72         1               0        0   \n",
      "3   84    1          383          73         1               1        1   \n",
      "4   66    1          318          93         1               1        1   \n",
      "\n",
      "   Obesity  Alcohol Consumption  Exercise Hours Per Week  ...  \\\n",
      "0        0                    0                 4.168189  ...   \n",
      "1        1                    1                 1.813242  ...   \n",
      "2        0                    0                 2.078353  ...   \n",
      "3        0                    1                 9.828130  ...   \n",
      "4        1                    0                 5.804299  ...   \n",
      "\n",
      "   Blood Pressure_99/89  Blood Pressure_99/90  Blood Pressure_99/91  \\\n",
      "0                 False                 False                 False   \n",
      "1                 False                 False                 False   \n",
      "2                 False                 False                 False   \n",
      "3                 False                 False                 False   \n",
      "4                 False                 False                 False   \n",
      "\n",
      "   Blood Pressure_99/92  Blood Pressure_99/93  Blood Pressure_99/94  \\\n",
      "0                 False                 False                 False   \n",
      "1                 False                 False                 False   \n",
      "2                 False                 False                 False   \n",
      "3                 False                 False                 False   \n",
      "4                 False                 False                 False   \n",
      "\n",
      "   Blood Pressure_99/96  Blood Pressure_99/98  Diet_Healthy  Diet_Unhealthy  \n",
      "0                 False                 False         False           False  \n",
      "1                 False                 False         False            True  \n",
      "2                 False                 False          True           False  \n",
      "3                 False                 False         False           False  \n",
      "4                 False                 False         False            True  \n",
      "\n",
      "[5 rows x 3935 columns]\n"
     ]
    }
   ],
   "execution_count": 33
  },
  {
   "metadata": {},
   "cell_type": "markdown",
   "source": " Распределение классов (Heart Attack Risk)",
   "id": "23fce7d9479824b0"
  },
  {
   "metadata": {
    "ExecuteTime": {
     "end_time": "2025-07-09T20:57:49.864192Z",
     "start_time": "2025-07-09T20:57:47.502331Z"
    }
   },
   "cell_type": "code",
   "source": [
    "import matplotlib.pyplot as plt\n",
    "import seaborn as sns\n",
    "\n",
    "# Настройка стиля\n",
    "sns.set(style=\"whitegrid\")\n",
    "\n",
    "# Гистограмма классов\n",
    "plt.figure(figsize=(6,4))\n",
    "sns.countplot(x=y)\n",
    "plt.title(\"Distribution of Heart Attack Risk\")\n",
    "plt.xlabel(\"Heart Attack Risk (0 = No, 1 = Yes)\")\n",
    "plt.ylabel(\"Number of Patients\")\n",
    "plt.show()\n"
   ],
   "id": "38872df31cc3a79",
   "outputs": [
    {
     "data": {
      "text/plain": [
       "<Figure size 600x400 with 1 Axes>"
      ],
      "image/png": "[encoded data removed]"
     },
     "metadata": {},
     "output_type": "display_data"
    }
   ],
   "execution_count": 34
  },
  {
   "metadata": {},
   "cell_type": "markdown",
   "source": "Тепловая карта корреляции признаков",
   "id": "d39e5ac65eea8967"
  },
  {
   "metadata": {},
   "cell_type": "markdown",
   "source": "Train/Test Split с стратификацией",
   "id": "b459ca0ee20075f2"
  },
  {
   "metadata": {
    "ExecuteTime": {
     "end_time": "2025-07-09T21:10:23.528920Z",
     "start_time": "2025-07-09T21:10:22.869643Z"
    }
   },
   "cell_type": "code",
   "source": [
    "from sklearn.model_selection import train_test_split\n",
    "\n",
    "# Разделение\n",
    "X_train, X_test, y_train, y_test = train_test_split(\n",
    "    X, y,\n",
    "    test_size=0.2,\n",
    "    random_state=42,\n",
    "    stratify=y\n",
    ")\n",
    "\n",
    "# Проверим размерности и баланс\n",
    "print(\"Train shape:\", X_train.shape)\n",
    "print(\"Test shape:\", X_test.shape)\n",
    "print(\"Train class distribution:\\n\", y_train.value_counts(normalize=True))\n",
    "print(\"Test class distribution:\\n\", y_test.value_counts(normalize=True))\n"
   ],
   "id": "fdeddbc4938611bf",
   "outputs": [
    {
     "name": "stdout",
     "output_type": "stream",
     "text": [
      "Train shape: (7010, 3935)\n",
      "Test shape: (1753, 3935)\n",
      "Train class distribution:\n",
      " Heart Attack Risk\n",
      "0    0.641797\n",
      "1    0.358203\n",
      "Name: proportion, dtype: float64\n",
      "Test class distribution:\n",
      " Heart Attack Risk\n",
      "0    0.641757\n",
      "1    0.358243\n",
      "Name: proportion, dtype: float64\n"
     ]
    }
   ],
   "execution_count": 43
  },
  {
   "metadata": {},
   "cell_type": "markdown",
   "source": "Обучение логистической регрессии - возможно можно заменить на ручную",
   "id": "68476cd1382b1ec4"
  },
  {
   "metadata": {
    "ExecuteTime": {
     "end_time": "2025-07-09T21:12:22.600007Z",
     "start_time": "2025-07-09T21:12:21.993102Z"
    }
   },
   "cell_type": "code",
   "source": [
    "from sklearn.linear_model import LogisticRegression\n",
    "\n",
    "# Модель\n",
    "model = LogisticRegression(max_iter=1000, solver='liblinear')  # можно заменить solver\n",
    "model.fit(X_train, y_train)\n"
   ],
   "id": "fe14428cab5155a7",
   "outputs": [
    {
     "data": {
      "text/plain": [
       "LogisticRegression(max_iter=1000, solver='liblinear')"
      ],
      "text/html": [
       "<style>#sk-container-id-1 {\n",
       "  /* Definition of color scheme common for light and dark mode */\n",
       "  --sklearn-color-text: #000;\n",
       "  --sklearn-color-text-muted: #666;\n",
       "  --sklearn-color-line: gray;\n",
       "  /* Definition of color scheme for unfitted estimators */\n",
       "  --sklearn-color-unfitted-level-0: #fff5e6;\n",
       "  --sklearn-color-unfitted-level-1: #f6e4d2;\n",
       "  --sklearn-color-unfitted-level-2: #ffe0b3;\n",
       "  --sklearn-color-unfitted-level-3: chocolate;\n",
       "  /* Definition of color scheme for fitted estimators */\n",
       "  --sklearn-color-fitted-level-0: #f0f8ff;\n",
       "  --sklearn-color-fitted-level-1: #d4ebff;\n",
       "  --sklearn-color-fitted-level-2: #b3dbfd;\n",
       "  --sklearn-color-fitted-level-3: cornflowerblue;\n",
       "\n",
       "  /* Specific color for light theme */\n",
       "  --sklearn-color-text-on-default-background: var(--sg-text-color, var(--theme-code-foreground, var(--jp-content-font-color1, black)));\n",
       "  --sklearn-color-background: var(--sg-background-color, var(--theme-background, var(--jp-layout-color0, white)));\n",
       "  --sklearn-color-border-box: var(--sg-text-color, var(--theme-code-foreground, var(--jp-content-font-color1, black)));\n",
       "  --sklearn-color-icon: #696969;\n",
       "\n",
       "  @media (prefers-color-scheme: dark) {\n",
       "    /* Redefinition of color scheme for dark theme */\n",
       "    --sklearn-color-text-on-default-background: var(--sg-text-color, var(--theme-code-foreground, var(--jp-content-font-color1, white)));\n",
       "    --sklearn-color-background: var(--sg-background-color, var(--theme-background, var(--jp-layout-color0, #111)));\n",
       "    --sklearn-color-border-box: var(--sg-text-color, var(--theme-code-foreground, var(--jp-content-font-color1, white)));\n",
       "    --sklearn-color-icon: #878787;\n",
       "  }\n",
       "}\n",
       "\n",
       "#sk-container-id-1 {\n",
       "  color: var(--sklearn-color-text);\n",
       "}\n",
       "\n",
       "#sk-container-id-1 pre {\n",
       "  padding: 0;\n",
       "}\n",
       "\n",
       "#sk-container-id-1 input.sk-hidden--visually {\n",
       "  border: 0;\n",
       "  clip: rect(1px 1px 1px 1px);\n",
       "  clip: rect(1px, 1px, 1px, 1px);\n",
       "  height: 1px;\n",
       "  margin: -1px;\n",
       "  overflow: hidden;\n",
       "  padding: 0;\n",
       "  position: absolute;\n",
       "  width: 1px;\n",
       "}\n",
       "\n",
       "#sk-container-id-1 div.sk-dashed-wrapped {\n",
       "  border: 1px dashed var(--sklearn-color-line);\n",
       "  margin: 0 0.4em 0.5em 0.4em;\n",
       "  box-sizing: border-box;\n",
       "  padding-bottom: 0.4em;\n",
       "  background-color: var(--sklearn-color-background);\n",
       "}\n",
       "\n",
       "#sk-container-id-1 div.sk-container {\n",
       "  /* jupyter's `normalize.less` sets `[hidden] { display: none; }`\n",
       "     but bootstrap.min.css set `[hidden] { display: none !important; }`\n",
       "     so we also need the `!important` here to be able to override the\n",
       "     default hidden behavior on the sphinx rendered scikit-learn.org.\n",
       "     See: https://github.com/scikit-learn/scikit-learn/issues/21755 */\n",
       "  display: inline-block !important;\n",
       "  position: relative;\n",
       "}\n",
       "\n",
       "#sk-container-id-1 div.sk-text-repr-fallback {\n",
       "  display: none;\n",
       "}\n",
       "\n",
       "div.sk-parallel-item,\n",
       "div.sk-serial,\n",
       "div.sk-item {\n",
       "  /* draw centered vertical line to link estimators */\n",
       "  background-image: linear-gradient(var(--sklearn-color-text-on-default-background), var(--sklearn-color-text-on-default-background));\n",
       "  background-size: 2px 100%;\n",
       "  background-repeat: no-repeat;\n",
       "  background-position: center center;\n",
       "}\n",
       "\n",
       "/* Parallel-specific style estimator block */\n",
       "\n",
       "#sk-container-id-1 div.sk-parallel-item::after {\n",
       "  content: \"\";\n",
       "  width: 100%;\n",
       "  border-bottom: 2px solid var(--sklearn-color-text-on-default-background);\n",
       "  flex-grow: 1;\n",
       "}\n",
       "\n",
       "#sk-container-id-1 div.sk-parallel {\n",
       "  display: flex;\n",
       "  align-items: stretch;\n",
       "  justify-content: center;\n",
       "  background-color: var(--sklearn-color-background);\n",
       "  position: relative;\n",
       "}\n",
       "\n",
       "#sk-container-id-1 div.sk-parallel-item {\n",
       "  display: flex;\n",
       "  flex-direction: column;\n",
       "}\n",
       "\n",
       "#sk-container-id-1 div.sk-parallel-item:first-child::after {\n",
       "  align-self: flex-end;\n",
       "  width: 50%;\n",
       "}\n",
       "\n",
       "#sk-container-id-1 div.sk-parallel-item:last-child::after {\n",
       "  align-self: flex-start;\n",
       "  width: 50%;\n",
       "}\n",
       "\n",
       "#sk-container-id-1 div.sk-parallel-item:only-child::after {\n",
       "  width: 0;\n",
       "}\n",
       "\n",
       "/* Serial-specific style estimator block */\n",
       "\n",
       "#sk-container-id-1 div.sk-serial {\n",
       "  display: flex;\n",
       "  flex-direction: column;\n",
       "  align-items: center;\n",
       "  background-color: var(--sklearn-color-background);\n",
       "  padding-right: 1em;\n",
       "  padding-left: 1em;\n",
       "}\n",
       "\n",
       "\n",
       "/* Toggleable style: style used for estimator/Pipeline/ColumnTransformer box that is\n",
       "clickable and can be expanded/collapsed.\n",
       "- Pipeline and ColumnTransformer use this feature and define the default style\n",
       "- Estimators will overwrite some part of the style using the `sk-estimator` class\n",
       "*/\n",
       "\n",
       "/* Pipeline and ColumnTransformer style (default) */\n",
       "\n",
       "#sk-container-id-1 div.sk-toggleable {\n",
       "  /* Default theme specific background. It is overwritten whether we have a\n",
       "  specific estimator or a Pipeline/ColumnTransformer */\n",
       "  background-color: var(--sklearn-color-background);\n",
       "}\n",
       "\n",
       "/* Toggleable label */\n",
       "#sk-container-id-1 label.sk-toggleable__label {\n",
       "  cursor: pointer;\n",
       "  display: flex;\n",
       "  width: 100%;\n",
       "  margin-bottom: 0;\n",
       "  padding: 0.5em;\n",
       "  box-sizing: border-box;\n",
       "  text-align: center;\n",
       "  align-items: start;\n",
       "  justify-content: space-between;\n",
       "  gap: 0.5em;\n",
       "}\n",
       "\n",
       "#sk-container-id-1 label.sk-toggleable__label .caption {\n",
       "  font-size: 0.6rem;\n",
       "  font-weight: lighter;\n",
       "  color: var(--sklearn-color-text-muted);\n",
       "}\n",
       "\n",
       "#sk-container-id-1 label.sk-toggleable__label-arrow:before {\n",
       "  /* Arrow on the left of the label */\n",
       "  content: \"▸\";\n",
       "  float: left;\n",
       "  margin-right: 0.25em;\n",
       "  color: var(--sklearn-color-icon);\n",
       "}\n",
       "\n",
       "#sk-container-id-1 label.sk-toggleable__label-arrow:hover:before {\n",
       "  color: var(--sklearn-color-text);\n",
       "}\n",
       "\n",
       "/* Toggleable content - dropdown */\n",
       "\n",
       "#sk-container-id-1 div.sk-toggleable__content {\n",
       "  max-height: 0;\n",
       "  max-width: 0;\n",
       "  overflow: hidden;\n",
       "  text-align: left;\n",
       "  /* unfitted */\n",
       "  background-color: var(--sklearn-color-unfitted-level-0);\n",
       "}\n",
       "\n",
       "#sk-container-id-1 div.sk-toggleable__content.fitted {\n",
       "  /* fitted */\n",
       "  background-color: var(--sklearn-color-fitted-level-0);\n",
       "}\n",
       "\n",
       "#sk-container-id-1 div.sk-toggleable__content pre {\n",
       "  margin: 0.2em;\n",
       "  border-radius: 0.25em;\n",
       "  color: var(--sklearn-color-text);\n",
       "  /* unfitted */\n",
       "  background-color: var(--sklearn-color-unfitted-level-0);\n",
       "}\n",
       "\n",
       "#sk-container-id-1 div.sk-toggleable__content.fitted pre {\n",
       "  /* unfitted */\n",
       "  background-color: var(--sklearn-color-fitted-level-0);\n",
       "}\n",
       "\n",
       "#sk-container-id-1 input.sk-toggleable__control:checked~div.sk-toggleable__content {\n",
       "  /* Expand drop-down */\n",
       "  max-height: 200px;\n",
       "  max-width: 100%;\n",
       "  overflow: auto;\n",
       "}\n",
       "\n",
       "#sk-container-id-1 input.sk-toggleable__control:checked~label.sk-toggleable__label-arrow:before {\n",
       "  content: \"▾\";\n",
       "}\n",
       "\n",
       "/* Pipeline/ColumnTransformer-specific style */\n",
       "\n",
       "#sk-container-id-1 div.sk-label input.sk-toggleable__control:checked~label.sk-toggleable__label {\n",
       "  color: var(--sklearn-color-text);\n",
       "  background-color: var(--sklearn-color-unfitted-level-2);\n",
       "}\n",
       "\n",
       "#sk-container-id-1 div.sk-label.fitted input.sk-toggleable__control:checked~label.sk-toggleable__label {\n",
       "  background-color: var(--sklearn-color-fitted-level-2);\n",
       "}\n",
       "\n",
       "/* Estimator-specific style */\n",
       "\n",
       "/* Colorize estimator box */\n",
       "#sk-container-id-1 div.sk-estimator input.sk-toggleable__control:checked~label.sk-toggleable__label {\n",
       "  /* unfitted */\n",
       "  background-color: var(--sklearn-color-unfitted-level-2);\n",
       "}\n",
       "\n",
       "#sk-container-id-1 div.sk-estimator.fitted input.sk-toggleable__control:checked~label.sk-toggleable__label {\n",
       "  /* fitted */\n",
       "  background-color: var(--sklearn-color-fitted-level-2);\n",
       "}\n",
       "\n",
       "#sk-container-id-1 div.sk-label label.sk-toggleable__label,\n",
       "#sk-container-id-1 div.sk-label label {\n",
       "  /* The background is the default theme color */\n",
       "  color: var(--sklearn-color-text-on-default-background);\n",
       "}\n",
       "\n",
       "/* On hover, darken the color of the background */\n",
       "#sk-container-id-1 div.sk-label:hover label.sk-toggleable__label {\n",
       "  color: var(--sklearn-color-text);\n",
       "  background-color: var(--sklearn-color-unfitted-level-2);\n",
       "}\n",
       "\n",
       "/* Label box, darken color on hover, fitted */\n",
       "#sk-container-id-1 div.sk-label.fitted:hover label.sk-toggleable__label.fitted {\n",
       "  color: var(--sklearn-color-text);\n",
       "  background-color: var(--sklearn-color-fitted-level-2);\n",
       "}\n",
       "\n",
       "/* Estimator label */\n",
       "\n",
       "#sk-container-id-1 div.sk-label label {\n",
       "  font-family: monospace;\n",
       "  font-weight: bold;\n",
       "  display: inline-block;\n",
       "  line-height: 1.2em;\n",
       "}\n",
       "\n",
       "#sk-container-id-1 div.sk-label-container {\n",
       "  text-align: center;\n",
       "}\n",
       "\n",
       "/* Estimator-specific */\n",
       "#sk-container-id-1 div.sk-estimator {\n",
       "  font-family: monospace;\n",
       "  border: 1px dotted var(--sklearn-color-border-box);\n",
       "  border-radius: 0.25em;\n",
       "  box-sizing: border-box;\n",
       "  margin-bottom: 0.5em;\n",
       "  /* unfitted */\n",
       "  background-color: var(--sklearn-color-unfitted-level-0);\n",
       "}\n",
       "\n",
       "#sk-container-id-1 div.sk-estimator.fitted {\n",
       "  /* fitted */\n",
       "  background-color: var(--sklearn-color-fitted-level-0);\n",
       "}\n",
       "\n",
       "/* on hover */\n",
       "#sk-container-id-1 div.sk-estimator:hover {\n",
       "  /* unfitted */\n",
       "  background-color: var(--sklearn-color-unfitted-level-2);\n",
       "}\n",
       "\n",
       "#sk-container-id-1 div.sk-estimator.fitted:hover {\n",
       "  /* fitted */\n",
       "  background-color: var(--sklearn-color-fitted-level-2);\n",
       "}\n",
       "\n",
       "/* Specification for estimator info (e.g. \"i\" and \"?\") */\n",
       "\n",
       "/* Common style for \"i\" and \"?\" */\n",
       "\n",
       ".sk-estimator-doc-link,\n",
       "a:link.sk-estimator-doc-link,\n",
       "a:visited.sk-estimator-doc-link {\n",
       "  float: right;\n",
       "  font-size: smaller;\n",
       "  line-height: 1em;\n",
       "  font-family: monospace;\n",
       "  background-color: var(--sklearn-color-background);\n",
       "  border-radius: 1em;\n",
       "  height: 1em;\n",
       "  width: 1em;\n",
       "  text-decoration: none !important;\n",
       "  margin-left: 0.5em;\n",
       "  text-align: center;\n",
       "  /* unfitted */\n",
       "  border: var(--sklearn-color-unfitted-level-1) 1pt solid;\n",
       "  color: var(--sklearn-color-unfitted-level-1);\n",
       "}\n",
       "\n",
       ".sk-estimator-doc-link.fitted,\n",
       "a:link.sk-estimator-doc-link.fitted,\n",
       "a:visited.sk-estimator-doc-link.fitted {\n",
       "  /* fitted */\n",
       "  border: var(--sklearn-color-fitted-level-1) 1pt solid;\n",
       "  color: var(--sklearn-color-fitted-level-1);\n",
       "}\n",
       "\n",
       "/* On hover */\n",
       "div.sk-estimator:hover .sk-estimator-doc-link:hover,\n",
       ".sk-estimator-doc-link:hover,\n",
       "div.sk-label-container:hover .sk-estimator-doc-link:hover,\n",
       ".sk-estimator-doc-link:hover {\n",
       "  /* unfitted */\n",
       "  background-color: var(--sklearn-color-unfitted-level-3);\n",
       "  color: var(--sklearn-color-background);\n",
       "  text-decoration: none;\n",
       "}\n",
       "\n",
       "div.sk-estimator.fitted:hover .sk-estimator-doc-link.fitted:hover,\n",
       ".sk-estimator-doc-link.fitted:hover,\n",
       "div.sk-label-container:hover .sk-estimator-doc-link.fitted:hover,\n",
       ".sk-estimator-doc-link.fitted:hover {\n",
       "  /* fitted */\n",
       "  background-color: var(--sklearn-color-fitted-level-3);\n",
       "  color: var(--sklearn-color-background);\n",
       "  text-decoration: none;\n",
       "}\n",
       "\n",
       "/* Span, style for the box shown on hovering the info icon */\n",
       ".sk-estimator-doc-link span {\n",
       "  display: none;\n",
       "  z-index: 9999;\n",
       "  position: relative;\n",
       "  font-weight: normal;\n",
       "  right: .2ex;\n",
       "  padding: .5ex;\n",
       "  margin: .5ex;\n",
       "  width: min-content;\n",
       "  min-width: 20ex;\n",
       "  max-width: 50ex;\n",
       "  color: var(--sklearn-color-text);\n",
       "  box-shadow: 2pt 2pt 4pt #999;\n",
       "  /* unfitted */\n",
       "  background: var(--sklearn-color-unfitted-level-0);\n",
       "  border: .5pt solid var(--sklearn-color-unfitted-level-3);\n",
       "}\n",
       "\n",
       ".sk-estimator-doc-link.fitted span {\n",
       "  /* fitted */\n",
       "  background: var(--sklearn-color-fitted-level-0);\n",
       "  border: var(--sklearn-color-fitted-level-3);\n",
       "}\n",
       "\n",
       ".sk-estimator-doc-link:hover span {\n",
       "  display: block;\n",
       "}\n",
       "\n",
       "/* \"?\"-specific style due to the `<a>` HTML tag */\n",
       "\n",
       "#sk-container-id-1 a.estimator_doc_link {\n",
       "  float: right;\n",
       "  font-size: 1rem;\n",
       "  line-height: 1em;\n",
       "  font-family: monospace;\n",
       "  background-color: var(--sklearn-color-background);\n",
       "  border-radius: 1rem;\n",
       "  height: 1rem;\n",
       "  width: 1rem;\n",
       "  text-decoration: none;\n",
       "  /* unfitted */\n",
       "  color: var(--sklearn-color-unfitted-level-1);\n",
       "  border: var(--sklearn-color-unfitted-level-1) 1pt solid;\n",
       "}\n",
       "\n",
       "#sk-container-id-1 a.estimator_doc_link.fitted {\n",
       "  /* fitted */\n",
       "  border: var(--sklearn-color-fitted-level-1) 1pt solid;\n",
       "  color: var(--sklearn-color-fitted-level-1);\n",
       "}\n",
       "\n",
       "/* On hover */\n",
       "#sk-container-id-1 a.estimator_doc_link:hover {\n",
       "  /* unfitted */\n",
       "  background-color: var(--sklearn-color-unfitted-level-3);\n",
       "  color: var(--sklearn-color-background);\n",
       "  text-decoration: none;\n",
       "}\n",
       "\n",
       "#sk-container-id-1 a.estimator_doc_link.fitted:hover {\n",
       "  /* fitted */\n",
       "  background-color: var(--sklearn-color-fitted-level-3);\n",
       "}\n",
       "</style><div id=\"sk-container-id-1\" class=\"sk-top-container\"><div class=\"sk-text-repr-fallback\"><pre>LogisticRegression(max_iter=1000, solver=&#x27;liblinear&#x27;)</pre><b>In a Jupyter environment, please rerun this cell to show the HTML representation or trust the notebook. <br />On GitHub, the HTML representation is unable to render, please try loading this page with nbviewer.org.</b></div><div class=\"sk-container\" hidden><div class=\"sk-item\"><div class=\"sk-estimator fitted sk-toggleable\"><input class=\"sk-toggleable__control sk-hidden--visually\" id=\"sk-estimator-id-1\" type=\"checkbox\" checked><label for=\"sk-estimator-id-1\" class=\"sk-toggleable__label fitted sk-toggleable__label-arrow\"><div><div>LogisticRegression</div></div><div><a class=\"sk-estimator-doc-link fitted\" rel=\"noreferrer\" target=\"_blank\" href=\"https://scikit-learn.org/1.6/modules/generated/sklearn.linear_model.LogisticRegression.html\">?<span>Documentation for LogisticRegression</span></a><span class=\"sk-estimator-doc-link fitted\">i<span>Fitted</span></span></div></label><div class=\"sk-toggleable__content fitted\"><pre>LogisticRegression(max_iter=1000, solver=&#x27;liblinear&#x27;)</pre></div> </div></div></div></div>"
      ]
     },
     "execution_count": 44,
     "metadata": {},
     "output_type": "execute_result"
    }
   ],
   "execution_count": 44
  },
  {
   "metadata": {},
   "cell_type": "markdown",
   "source": " Ручная реализация логистической регрессии на numpy",
   "id": "310321727aa9b272"
  },
  {
   "metadata": {},
   "cell_type": "markdown",
   "source": "Подготовка (numpy + инициализация)",
   "id": "26b61ae08446f60"
  },
  {
   "metadata": {
    "ExecuteTime": {
     "end_time": "2025-07-09T21:23:36.765203Z",
     "start_time": "2025-07-09T21:23:36.512068Z"
    }
   },
   "cell_type": "code",
   "source": [
    "import numpy as np\n",
    "\n",
    "# Преобразуем train-данные в numpy\n",
    "X_train_np = X_train.to_numpy()\n",
    "y_train_np = y_train.to_numpy().reshape(-1, 1)  # делаем столбец-матрицу\n",
    "\n",
    "# Инициализация параметров\n",
    "n_features = X_train_np.shape[1]\n",
    "w = np.zeros((n_features, 1))\n",
    "b = 0\n",
    "\n",
    "# Функция сигмоиды\n",
    "def sigmoid(z):\n",
    "    return 1 / (1 + np.exp(-z))\n"
   ],
   "id": "7f1a004b930e6cdc",
   "outputs": [],
   "execution_count": 45
  },
  {
   "metadata": {},
   "cell_type": "markdown",
   "source": " Forward-pass + loss (cross-entropy)",
   "id": "5d03283e692950b6"
  },
  {
   "metadata": {
    "ExecuteTime": {
     "end_time": "2025-07-09T21:23:52.976669Z",
     "start_time": "2025-07-09T21:23:52.973375Z"
    }
   },
   "cell_type": "code",
   "source": [
    "def predict_proba(X, w, b):\n",
    "    z = np.dot(X, w) + b\n",
    "    return sigmoid(z)\n",
    "\n",
    "def compute_loss(y_true, y_pred):\n",
    "    # Добавляем небольшое значение, чтобы избежать log(0)\n",
    "    eps = 1e-15\n",
    "    y_pred = np.clip(y_pred, eps, 1 - eps)\n",
    "    loss = -np.mean(y_true * np.log(y_pred) + (1 - y_true) * np.log(1 - y_pred))\n",
    "    return loss\n"
   ],
   "id": "274db9cc9a069d91",
   "outputs": [],
   "execution_count": 46
  },
  {
   "metadata": {},
   "cell_type": "markdown",
   "source": "Градиенты и обновление параметров",
   "id": "9b1abf45844aa421"
  },
  {
   "metadata": {
    "ExecuteTime": {
     "end_time": "2025-07-09T21:24:17.445724Z",
     "start_time": "2025-07-09T21:24:17.437512Z"
    }
   },
   "cell_type": "code",
   "source": [
    "def compute_gradients(X, y_true, y_pred):\n",
    "    m = X.shape[0]  # количество примеров\n",
    "    error = y_pred - y_true\n",
    "\n",
    "    dw = np.dot(X.T, error) / m\n",
    "    db = np.sum(error) / m\n",
    "\n",
    "    return dw, db\n"
   ],
   "id": "32f2d52794f7f4a0",
   "outputs": [],
   "execution_count": 47
  },
  {
   "metadata": {},
   "cell_type": "markdown",
   "source": "Обучение модели — градиентный спуск",
   "id": "884b913596447908"
  },
  {
   "metadata": {
    "ExecuteTime": {
     "end_time": "2025-07-09T21:24:32.072210Z",
     "start_time": "2025-07-09T21:24:32.067707Z"
    }
   },
   "cell_type": "code",
   "source": [
    "def train(X, y, w, b, learning_rate=0.1, epochs=1000, verbose=True):\n",
    "    loss_history = []\n",
    "\n",
    "    for i in range(epochs):\n",
    "        y_pred = predict_proba(X, w, b)\n",
    "        loss = compute_loss(y, y_pred)\n",
    "\n",
    "        dw, db = compute_gradients(X, y, y_pred)\n",
    "\n",
    "        # Обновляем параметры\n",
    "        w -= learning_rate * dw\n",
    "        b -= learning_rate * db\n",
    "\n",
    "        if verbose and i % 100 == 0:\n",
    "            print(f\"Epoch {i}: loss = {loss:.4f}\")\n",
    "        loss_history.append(loss)\n",
    "\n",
    "    return w, b, loss_history\n"
   ],
   "id": "f6acb589f7806c00",
   "outputs": [],
   "execution_count": 48
  },
  {
   "metadata": {},
   "cell_type": "markdown",
   "source": "Запуск обучения",
   "id": "3e322e113d9aafe"
  },
  {
   "metadata": {},
   "cell_type": "code",
   "source": [
    "import numpy as np\n",
    "w_trained, b_trained, losses = train(X_train_np, y_train_np, w, b, learning_rate=0.1, epochs=1000)\n"
   ],
   "id": "88677b6cd340e938",
   "outputs": [],
   "execution_count": null
  },
  {
   "metadata": {
    "ExecuteTime": {
     "end_time": "2025-07-09T21:28:20.361828Z",
     "start_time": "2025-07-09T21:28:20.352530Z"
    }
   },
   "cell_type": "code",
   "source": [
    "import numpy as np\n",
    "\n",
    "# Sigmoid-функция\n",
    "def sigmoid(z):\n",
    "    z = np.array(z, dtype=float)  # ← защита от неожиданного типа\n",
    "    return 1 / (1 + np.exp(-z))\n",
    "\n",
    "# Предсказание вероятностей\n",
    "def predict_proba(X, w, b):\n",
    "    z = np.dot(X, w) + b\n",
    "    return sigmoid(z)\n",
    "\n",
    "# Кросс-энтропийная ошибка\n",
    "def compute_loss(y_true, y_pred):\n",
    "    eps = 1e-15\n",
    "    y_pred = np.clip(y_pred, eps, 1 - eps)\n",
    "    return -np.mean(y_true * np.log(y_pred) + (1 - y_true) * np.log(1 - y_pred))\n",
    "\n",
    "# Градиенты\n",
    "def compute_gradients(X, y_true, y_pred):\n",
    "    m = X.shape[0]\n",
    "    error = y_pred - y_true\n",
    "    dw = np.dot(X.T, error) / m\n",
    "    db = np.sum(error) / m\n",
    "    return dw, db\n",
    "\n",
    "# Обучение\n",
    "def train(X, y, learning_rate=0.1, epochs=1000, verbose=True):\n",
    "    X = np.array(X, dtype=float)\n",
    "    y = np.array(y, dtype=float).reshape(-1, 1)\n",
    "\n",
    "    n_features = X.shape[1]\n",
    "    w = np.zeros((n_features, 1))\n",
    "    b = 0\n",
    "    loss_history = []\n",
    "\n",
    "    for i in range(epochs):\n",
    "        y_pred = predict_proba(X, w, b)\n",
    "        loss = compute_loss(y, y_pred)\n",
    "        dw, db = compute_gradients(X, y, y_pred)\n",
    "\n",
    "        w -= learning_rate * dw\n",
    "        b -= learning_rate * db\n",
    "\n",
    "        if verbose and i % 100 == 0:\n",
    "            print(f\"Epoch {i}: loss = {loss:.4f}\")\n",
    "        loss_history.append(loss)\n",
    "\n",
    "    return w, b, loss_history\n"
   ],
   "id": "b0ee40079a27cbca",
   "outputs": [],
   "execution_count": 52
  },
  {
   "metadata": {
    "ExecuteTime": {
     "end_time": "2025-07-09T21:28:39.330952Z",
     "start_time": "2025-07-09T21:28:28.565241Z"
    }
   },
   "cell_type": "code",
   "source": "w_trained, b_trained, losses = train(X_train_np, y_train_np, learning_rate=0.1, epochs=1000)\n",
   "id": "6e51ac4f99a7de1b",
   "outputs": [
    {
     "name": "stdout",
     "output_type": "stream",
     "text": [
      "Epoch 0: loss = 0.6931\n"
     ]
    },
    {
     "name": "stderr",
     "output_type": "stream",
     "text": [
      "/var/folders/w5/6h7z931x4gd31sqnxq5sjrk40000gn/T/ipykernel_54839/2170376135.py:6: RuntimeWarning: overflow encountered in exp\n",
      "  return 1 / (1 + np.exp(-z))\n"
     ]
    },
    {
     "name": "stdout",
     "output_type": "stream",
     "text": [
      "Epoch 100: loss = 12.3719\n",
      "Epoch 200: loss = 22.1674\n",
      "Epoch 300: loss = 22.1674\n",
      "Epoch 400: loss = 12.3719\n",
      "Epoch 500: loss = 12.3719\n",
      "Epoch 600: loss = 22.1674\n",
      "Epoch 700: loss = 22.1674\n",
      "Epoch 800: loss = 12.3719\n",
      "Epoch 900: loss = 12.3719\n"
     ]
    }
   ],
   "execution_count": 53
  },
  {
   "metadata": {},
   "cell_type": "markdown",
   "source": [
    "loss прыгает между 12.3 и 22.1, что означает, что модель \"взрывается\" — то есть уходит в переобучение или числовую нестабильность.\n",
    "\n",
    "Это классическая проблема при логистической регрессии на нестандартизированных данных:\n",
    "1) слишком большие значения в X_train_np, например, Income, Cholesterol, Triglycerides\n",
    "2) np.exp(-z) при z = ±1000 вызывает переполнение"
   ],
   "id": "a8c94dd42b632b15"
  },
  {
   "metadata": {},
   "cell_type": "markdown",
   "source": "Решение: стандартизация данных перед обучением",
   "id": "f19ca631af45811c"
  },
  {
   "metadata": {
    "ExecuteTime": {
     "end_time": "2025-07-09T21:32:44.105907Z",
     "start_time": "2025-07-09T21:32:42.833523Z"
    }
   },
   "cell_type": "code",
   "source": [
    "from sklearn.preprocessing import StandardScaler\n",
    "\n",
    "scaler = StandardScaler()\n",
    "X_train_scaled = scaler.fit_transform(X_train_np)\n"
   ],
   "id": "3d164a6c8efef998",
   "outputs": [],
   "execution_count": 54
  },
  {
   "metadata": {
    "ExecuteTime": {
     "end_time": "2025-07-09T21:32:54.892598Z",
     "start_time": "2025-07-09T21:32:54.887028Z"
    }
   },
   "cell_type": "code",
   "source": [
    "import numpy as np\n",
    "\n",
    "\n",
    "# Sigmoid-функция\n",
    "def sigmoid(z):\n",
    "    z = np.array(z, dtype=float)  # ← защита от неожиданного типа\n",
    "    return 1 / (1 + np.exp(-z))\n",
    "\n",
    "\n",
    "# Предсказание вероятностей\n",
    "def predict_proba(X, w, b):\n",
    "    z = np.dot(X, w) + b\n",
    "    return sigmoid(z)\n",
    "\n",
    "\n",
    "# Кросс-энтропийная ошибка\n",
    "def compute_loss(y_true, y_pred):\n",
    "    eps = 1e-15\n",
    "    y_pred = np.clip(y_pred, eps, 1 - eps)\n",
    "    return -np.mean(y_true * np.log(y_pred) + (1 - y_true) * np.log(1 - y_pred))\n",
    "\n",
    "\n",
    "# Градиенты\n",
    "def compute_gradients(X, y_true, y_pred):\n",
    "    m = X.shape[0]\n",
    "    error = y_pred - y_true\n",
    "    dw = np.dot(X.T, error) / m\n",
    "    db = np.sum(error) / m\n",
    "    return dw, db\n",
    "\n",
    "\n",
    "# Обучение\n",
    "def train(X, y, learning_rate=0.1, epochs=1000, verbose=True):\n",
    "    X = np.array(X, dtype=float)\n",
    "    y = np.array(y, dtype=float).reshape(-1, 1)\n",
    "\n",
    "    n_features = X.shape[1]\n",
    "    w = np.zeros((n_features, 1))\n",
    "    b = 0\n",
    "    loss_history = []\n",
    "\n",
    "    for i in range(epochs):\n",
    "        y_pred = predict_proba(X, w, b)\n",
    "        loss = compute_loss(y, y_pred)\n",
    "        dw, db = compute_gradients(X, y, y_pred)\n",
    "\n",
    "        w -= learning_rate * dw\n",
    "        b -= learning_rate * db\n",
    "\n",
    "        if verbose and i % 100 == 0:\n",
    "            print(f\"Epoch {i}: loss = {loss:.4f}\")\n",
    "        loss_history.append(loss)\n",
    "\n",
    "    return w, b, loss_history\n"
   ],
   "id": "63dbee0bc7942531",
   "outputs": [],
   "execution_count": 55
  },
  {
   "metadata": {
    "ExecuteTime": {
     "end_time": "2025-07-09T21:33:13.128285Z",
     "start_time": "2025-07-09T21:33:02.960897Z"
    }
   },
   "cell_type": "code",
   "source": "w_trained, b_trained, losses = train(X_train_scaled, y_train_np, learning_rate=0.1, epochs=1000)\n",
   "id": "3bb3dd521f7f085d",
   "outputs": [
    {
     "name": "stdout",
     "output_type": "stream",
     "text": [
      "Epoch 0: loss = 0.6931\n",
      "Epoch 100: loss = 0.3711\n",
      "Epoch 200: loss = 0.3436\n",
      "Epoch 300: loss = 0.3343\n",
      "Epoch 400: loss = 0.3297\n",
      "Epoch 500: loss = 0.3269\n",
      "Epoch 600: loss = 0.3251\n",
      "Epoch 700: loss = 0.3238\n",
      "Epoch 800: loss = 0.3228\n",
      "Epoch 900: loss = 0.3221\n"
     ]
    }
   ],
   "execution_count": 56
  },
  {
   "metadata": {},
   "cell_type": "markdown",
   "source": [
    "Без переполнения\n",
    "Loss снижается плавно — с 0.6931 до 0.3221 🔥\n",
    "Это значит, что ручная логистическая регрессия с градиентным спуском работает корректно"
   ],
   "id": "a65a9f2aa90a36fa"
  },
  {
   "metadata": {},
   "cell_type": "markdown",
   "source": "Следующий этап: предсказания, перевод в метки, и метрики классификации.",
   "id": "c76bacde038368b1"
  },
  {
   "metadata": {},
   "cell_type": "markdown",
   "source": "Подготовка X_test так же, как X_train:",
   "id": "8bdb7b0c652689b3"
  },
  {
   "metadata": {
    "ExecuteTime": {
     "end_time": "2025-07-09T21:36:30.827181Z",
     "start_time": "2025-07-09T21:36:30.586072Z"
    }
   },
   "cell_type": "code",
   "source": [
    "# Стандартизация X_test по тем же параметрам\n",
    "X_test_np = X_test.to_numpy()\n",
    "X_test_scaled = scaler.transform(X_test_np)\n",
    "\n",
    "# Преобразуем y_test в numpy\n",
    "y_test_np = y_test.to_numpy().reshape(-1, 1)\n"
   ],
   "id": "83ef3e22c7ef2d85",
   "outputs": [],
   "execution_count": 59
  },
  {
   "metadata": {},
   "cell_type": "markdown",
   "source": "Предсказание и перевод в метки (порог 0.5)",
   "id": "f3a11cc3970758f9"
  },
  {
   "metadata": {
    "ExecuteTime": {
     "end_time": "2025-07-09T21:36:56.014290Z",
     "start_time": "2025-07-09T21:36:55.959255Z"
    }
   },
   "cell_type": "code",
   "source": [
    "# Предсказанные вероятности\n",
    "y_test_proba = predict_proba(X_test_scaled, w_trained, b_trained)\n",
    "\n",
    "# Перевод в метки\n",
    "y_test_pred = (y_test_proba >= 0.5).astype(int)\n"
   ],
   "id": "649a0189e80826b0",
   "outputs": [],
   "execution_count": 60
  },
  {
   "metadata": {},
   "cell_type": "markdown",
   "source": "Метрики классификации",
   "id": "7f9bf1c23b7dbf14"
  },
  {
   "metadata": {
    "ExecuteTime": {
     "end_time": "2025-07-09T21:37:15.024924Z",
     "start_time": "2025-07-09T21:37:15.009373Z"
    }
   },
   "cell_type": "code",
   "source": [
    "from sklearn.metrics import accuracy_score, precision_score, recall_score, f1_score\n",
    "\n",
    "# Плоские массивы\n",
    "y_true = y_test_np.flatten()\n",
    "y_pred = y_test_pred.flatten()\n",
    "\n",
    "# Метрики\n",
    "print(\"Accuracy:\", accuracy_score(y_true, y_pred))\n",
    "print(\"Precision:\", precision_score(y_true, y_pred))\n",
    "print(\"Recall:\", recall_score(y_true, y_pred))\n",
    "print(\"F1-score:\", f1_score(y_true, y_pred))\n"
   ],
   "id": "97095efeada76e12",
   "outputs": [
    {
     "name": "stdout",
     "output_type": "stream",
     "text": [
      "Accuracy: 0.558471192241871\n",
      "Precision: 0.3472803347280335\n",
      "Recall: 0.2643312101910828\n",
      "F1-score: 0.30018083182640143\n"
     ]
    }
   ],
   "execution_count": 61
  },
  {
   "metadata": {},
   "cell_type": "markdown",
   "source": "Матрица ошибок + ROC-AUC",
   "id": "7151c230ac87044"
  },
  {
   "metadata": {
    "ExecuteTime": {
     "end_time": "2025-07-09T21:38:06.225785Z",
     "start_time": "2025-07-09T21:38:06.146227Z"
    }
   },
   "cell_type": "code",
   "source": [
    "from sklearn.metrics import confusion_matrix, roc_auc_score, ConfusionMatrixDisplay\n",
    "import matplotlib.pyplot as plt\n",
    "\n",
    "# Матрица ошибок\n",
    "cm = confusion_matrix(y_true, y_pred)\n",
    "disp = ConfusionMatrixDisplay(confusion_matrix=cm)\n",
    "disp.plot()\n",
    "plt.title(\"Confusion Matrix\")\n",
    "plt.show()\n",
    "\n",
    "# ROC-AUC\n",
    "print(\"ROC-AUC:\", roc_auc_score(y_true, y_test_proba))\n"
   ],
   "id": "b33aeb4325eb7b5e",
   "outputs": [
    {
     "data": {
      "text/plain": [
       "<Figure size 640x480 with 2 Axes>"
      ],
      "image/png": "[encoded data removed]"
     },
     "metadata": {},
     "output_type": "display_data"
    },
    {
     "name": "stdout",
     "output_type": "stream",
     "text": [
      "ROC-AUC: 0.48955272469922145\n"
     ]
    }
   ],
   "execution_count": 62
  },
  {
   "metadata": {},
   "cell_type": "markdown",
   "source": [
    "True Negative (TN): 813 — правильно предсказан \"0\"\n",
    "False Positive (FP): 312 — предсказан \"1\", но на самом деле \"0\"\n",
    "False Negative (FN): 452 — пропущено \"1\"\n",
    "True Positive (TP): 186 — правильно найден \"1\""
   ],
   "id": "7dd05b93cd87c525"
  },
  {
   "metadata": {},
   "cell_type": "markdown",
   "source": [
    "Модель склонна выбирать \"0\" — это часто бывает при несбалансированных классах.\n",
    "Recall и F1 низкие, значит модель не находит больных, а слишком уверена в здоровье (много FN).\n",
    "ROC-AUC ≈ 0.5 — почти случайное поведение, можно улучшать."
   ],
   "id": "877cd7f5c07fa0a5"
  },
  {
   "metadata": {},
   "cell_type": "markdown",
   "source": "Ручная модель: пересчёт метрик при порогах 0.3 и 0.4",
   "id": "49e815a9dfa716f8"
  },
  {
   "metadata": {
    "ExecuteTime": {
     "end_time": "2025-07-09T21:42:45.305571Z",
     "start_time": "2025-07-09T21:42:45.278101Z"
    }
   },
   "cell_type": "code",
   "source": [
    "from sklearn.metrics import accuracy_score, precision_score, recall_score, f1_score, roc_auc_score\n",
    "\n",
    "def evaluate_with_threshold(y_true, y_proba, threshold):\n",
    "    y_pred = (y_proba >= threshold).astype(int).flatten()\n",
    "    y_true = y_true.flatten()\n",
    "\n",
    "    print(f\"\\n🔎 Threshold: {threshold}\")\n",
    "    print(\"Accuracy:\", accuracy_score(y_true, y_pred))\n",
    "    print(\"Precision:\", precision_score(y_true, y_pred))\n",
    "    print(\"Recall:\", recall_score(y_true, y_pred))\n",
    "    print(\"F1-score:\", f1_score(y_true, y_pred))\n",
    "    print(\"ROC-AUC (unchanged):\", roc_auc_score(y_true, y_proba))\n",
    "\n",
    "# Запуск\n",
    "evaluate_with_threshold(y_test_np, y_test_proba, 0.3)\n",
    "evaluate_with_threshold(y_test_np, y_test_proba, 0.4)\n"
   ],
   "id": "85637580de6b481b",
   "outputs": [
    {
     "name": "stdout",
     "output_type": "stream",
     "text": [
      "\n",
      "🔎 Threshold: 0.3\n",
      "Accuracy: 0.5139760410724472\n",
      "Precision: 0.33815028901734107\n",
      "Recall: 0.37261146496815284\n",
      "F1-score: 0.35454545454545455\n",
      "ROC-AUC (unchanged): 0.48955272469922145\n",
      "\n",
      "🔎 Threshold: 0.4\n",
      "Accuracy: 0.5316600114090131\n",
      "Precision: 0.3361629881154499\n",
      "Recall: 0.31528662420382164\n",
      "F1-score: 0.32539030402629415\n",
      "ROC-AUC (unchanged): 0.48955272469922145\n"
     ]
    }
   ],
   "execution_count": 63
  },
  {
   "metadata": {},
   "cell_type": "markdown",
   "source": [
    "При снижении порога:\n",
    "Recall улучшается → модель находит больше больных\n",
    "Accuracy падает → это нормально при несбалансированных данных\n",
    "F1-score растёт → значит, баланс лучше при 0.3\n",
    "ROC-AUC остаётся прежним (0.49) — потому что она не зависит от порога, а отражает ранжирование"
   ],
   "id": "13cc3b8a00efddd3"
  },
  {
   "metadata": {},
   "cell_type": "markdown",
   "source": "Baseline: LogisticRegression из sklearn",
   "id": "5fc5ca6ff5ff87b5"
  },
  {
   "metadata": {
    "ExecuteTime": {
     "end_time": "2025-07-09T21:43:30.841469Z",
     "start_time": "2025-07-09T21:43:27.419844Z"
    }
   },
   "cell_type": "code",
   "source": [
    "from sklearn.linear_model import LogisticRegression\n",
    "\n",
    "# Обучаем модель\n",
    "sk_model = LogisticRegression(max_iter=1000, solver='liblinear')\n",
    "sk_model.fit(X_train_scaled, y_train_np.ravel())\n",
    "\n",
    "# Предсказания\n",
    "y_test_proba_sk = sk_model.predict_proba(X_test_scaled)[:, 1]\n",
    "\n",
    "# Метки при threshold 0.5\n",
    "y_test_pred_sk = (y_test_proba_sk >= 0.5).astype(int)\n",
    "\n",
    "# Оценка\n",
    "print(\"\\n📦 Sklearn LogisticRegression (threshold = 0.5)\")\n",
    "print(\"Accuracy:\", accuracy_score(y_test, y_test_pred_sk))\n",
    "print(\"Precision:\", precision_score(y_test, y_test_pred_sk))\n",
    "print(\"Recall:\", recall_score(y_test, y_test_pred_sk))\n",
    "print(\"F1-score:\", f1_score(y_test, y_test_pred_sk))\n",
    "print(\"ROC-AUC:\", roc_auc_score(y_test, y_test_proba_sk))\n"
   ],
   "id": "1b978ebe4799c0ec",
   "outputs": [
    {
     "name": "stdout",
     "output_type": "stream",
     "text": [
      "\n",
      "📦 Sklearn LogisticRegression (threshold = 0.5)\n",
      "Accuracy: 0.5573302909298345\n",
      "Precision: 0.3458333333333333\n",
      "Recall: 0.2643312101910828\n",
      "F1-score: 0.2996389891696751\n",
      "ROC-AUC: 0.4886496815286624\n"
     ]
    }
   ],
   "execution_count": 64
  },
  {
   "metadata": {},
   "cell_type": "markdown",
   "source": [
    "Модель почти идеально совпадает с sklearn — разница на уровне ±0.001\n",
    "Это доказывает, что всё сделано правильно вручную: и градиенты, и кросс-энтропия, и оптимизация"
   ],
   "id": "9618d3cb354e6b6e"
  },
  {
   "metadata": {},
   "cell_type": "markdown",
   "source": [
    "Тем не менее, возаращаясь к теме коррелции\n",
    "1) Модель почти случайна (ROC-AUC ≈ 0.49)\n",
    "2) Ни sklearn, ни твоя реализация не смогли извлечь устойчивых линейных зависимостей\n",
    "3) При этом у нас было 3935 признаков после one-hot, многие из которых, вероятно, слабо связаны с таргетом"
   ],
   "id": "ec2cf2bd9cf2dec9"
  },
  {
   "metadata": {},
   "cell_type": "markdown",
   "source": [
    "Вывод сильной линейной корреляции между признаками и Heart Attack Risk — нет.\n",
    "\n",
    "Так как:\n",
    "И логистическая регрессия, и твоя реализация основаны на поиске линейных границ между классами\n",
    "Если бы корреляция была сильной, ROC-AUC был бы ближе к 0.7+\n",
    "А сейчас — ≈ 0.49, то есть модель не отличает здоровых от больных лучше случайного выбора"
   ],
   "id": "becfa3182cd769af"
  },
  {
   "metadata": {},
   "cell_type": "markdown",
   "source": "",
   "id": "d2093c2e72bc7da3"
  },
  {
   "metadata": {
    "ExecuteTime": {
     "end_time": "2025-07-09T21:49:28.044205Z",
     "start_time": "2025-07-09T21:46:56.871368Z"
    }
   },
   "cell_type": "code",
   "source": [
    "df_corr = X.copy()\n",
    "df_corr[\"Heart Attack Risk\"] = y\n",
    "cor_target = df_corr.corr()[\"Heart Attack Risk\"].abs().sort_values(ascending=False)\n",
    "print(cor_target[1:11])  # без самого себя\n"
   ],
   "id": "5669b18c61a983dc",
   "outputs": [
    {
     "name": "stdout",
     "output_type": "stream",
     "text": [
      "Blood Pressure_157/62     0.031982\n",
      "Blood Pressure_110/73     0.028604\n",
      "Blood Pressure_170/90     0.028604\n",
      "Blood Pressure_111/66     0.028604\n",
      "Blood Pressure_150/90     0.028604\n",
      "Blood Pressure_148/104    0.028604\n",
      "Blood Pressure_147/66     0.025938\n",
      "Blood Pressure_169/93     0.025938\n",
      "Blood Pressure_153/103    0.024771\n",
      "Blood Pressure_171/88     0.024771\n",
      "Name: Heart Attack Risk, dtype: float64\n"
     ]
    }
   ],
   "execution_count": 65
  },
  {
   "metadata": {},
   "cell_type": "markdown",
   "source": "все значения топ-10 признаков сильной корреляции ниже 0.04 => Признаки не дают линейной информации о Heart Attack Risk; Даже Blood Pressure в конкретных значениях — влияет очень слабо",
   "id": "1a7c9653aa786b53"
  },
  {
   "metadata": {},
   "cell_type": "markdown",
   "source": "То есть причина провала логистической регресси (ручной и sklearn) в очень слабом сигнале, а модель не может обучиться без сигнала",
   "id": "51cacffe7cc0e72c"
  },
  {
   "metadata": {},
   "cell_type": "code",
   "outputs": [],
   "execution_count": null,
   "source": "",
   "id": "7a4c67c42a63db50"
  }
 ],
 "metadata": {
  "kernelspec": {
   "display_name": "Python 3",
   "language": "python",
   "name": "python3"
  },
  "language_info": {
   "codemirror_mode": {
    "name": "ipython",
    "version": 2
   },
   "file_extension": ".py",
   "mimetype": "text/x-python",
   "name": "python",
   "nbconvert_exporter": "python",
   "pygments_lexer": "ipython2",
   "version": "2.7.6"
  }
 },
 "nbformat": 4,
 "nbformat_minor": 5
}
